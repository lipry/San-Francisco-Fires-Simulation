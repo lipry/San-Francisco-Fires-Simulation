{
 "cells": [
  {
   "cell_type": "markdown",
   "metadata": {
    "deletable": true,
    "editable": true
   },
   "source": [
    "# San Francisco Fires Intervention\n",
    "### Simulation course project\n",
    "\n",
    "## Introduction\n",
    "\n",
    "The aim of this university project is to apply the main concept trated in the simulation course, in particular  simulating fire burst and fire fighters intervention in San Francisco, California in a given time window.\n",
    "In this document we resume the data analysis experiment implemented and the final simulation.\n",
    "\n",
    "We used the [\"Fire Incidents\"](https://data.sfgov.org/Public-Safety/Fire-Incidents/wr8u-xric) dataset provided by [San Francisco open data portal](https://datasf.org/). This 454K rows long dataset contain a lot of information (63 varaibles) about fire incident in the city of San Francisco from 2003 to present days."
   ]
  },
  {
   "cell_type": "markdown",
   "metadata": {
    "deletable": true,
    "editable": true
   },
   "source": [
    "## Importing package and data cleaning\n",
    "In the following cell we have imported the python package needed, imported and cleaned the data.\n",
    "All the date in dataset are strings, to easily manage that values in python we need to convert them in datetime type. Also the \"Location\" variable is a string so we split it in \"Latitude\" and \"Longitude\" variables, both numerical.\n",
    "\n",
    "Note that the data importation and data cleaning operation can take some execution time. "
   ]
  },
  {
   "cell_type": "code",
   "execution_count": 19,
   "metadata": {
    "collapsed": false,
    "deletable": true,
    "editable": true
   },
   "outputs": [
    {
     "name": "stdout",
     "output_type": "stream",
     "text": [
      "Populating the interactive namespace from numpy and matplotlib\n",
      "The autoreload extension is already loaded. To reload it, use:\n",
      "  %reload_ext autoreload\n"
     ]
    }
   ],
   "source": [
    "%matplotlib inline\n",
    "%pylab inline\n",
    "%load_ext autoreload\n",
    "%autoreload 2\n",
    "pylab.rcParams['figure.figsize'] = (12,12)\n",
    "matplotlib.rcParams['figure.figsize'] = (12,12)\n",
    "\n",
    "import pandas as pd\n",
    "import numpy as np\n",
    "import matplotlib.mlab as mlab\n",
    "import matplotlib.pyplot as plt\n",
    "import seaborn as sns\n",
    "from scipy import stats\n",
    "from simulation_package.exponential import Exponential\n",
    "from simulation_package.gamma import  Gamma\n",
    "from simulation_package.normal import Normal\n",
    "from simulation_package.discrete_events import SFFireSimulation\n",
    "from scipy.stats import kstest\n",
    "import scipy\n",
    "import re"
   ]
  },
  {
   "cell_type": "code",
   "execution_count": 2,
   "metadata": {
    "collapsed": false,
    "deletable": true,
    "editable": true
   },
   "outputs": [],
   "source": [
    "# Importing and cleaning data\n",
    "def getcoordfstr(location):\n",
    "    return re.findall(r\"[-+]?\\d*\\.\\d+|\\d+\", location)\n",
    "\n",
    "df = pd.read_csv(\"SF_fire_incidents/Fire_Incidents.csv\", dtype=object)\n",
    "df.index = pd.to_datetime(df['Incident Date'], format= \"%m/%d/%Y\")\n",
    "\n",
    "# convert date in datetime\n",
    "df['Alarm DtTm'] = pd.to_datetime(df['Alarm DtTm'], format= \"%m/%d/%Y %I:%M:%S %p\")\n",
    "df['Arrival DtTm'] = pd.to_datetime(df['Arrival DtTm'], format= \"%m/%d/%Y %I:%M:%S %p\")\n",
    "df['Close DtTm'] = pd.to_datetime(df['Close DtTm'], format= \"%m/%d/%Y %I:%M:%S %p\")\n",
    "\n",
    "# convert Location in numerical Latitude and Longitude\n",
    "df['Latitude'] = df['Location'].apply(lambda x: float(getcoordfstr(x)[0]) if not pd.isnull(x) else x)\n",
    "df['Longitude'] = df['Location'].apply(lambda x: float(getcoordfstr(x)[1]) if not pd.isnull(x) else x)"
   ]
  },
  {
   "cell_type": "markdown",
   "metadata": {
    "deletable": true,
    "editable": true
   },
   "source": [
    "## Variables Exploration and Distribution Fitting\n",
    "In this section, as introduced before, we present the analysis made on the data, we highlight the distribution that best fit the real data. Particulary interesting for our purpose are the following variables: \n",
    "\n",
    "* Alarm DtTm\n",
    "* Arrival DtTm\n",
    "* Close DtTm\n",
    "* Action Taken Primary\n",
    "* Action Taken Secondary\n",
    "* Action Taken Other\n",
    "* Location (Latitude and Longitude)\n",
    "\n",
    "We used the first three of that list (Alarm DtTm, Arrival DtTm, Close DtTm) to calculate the fire burst alarm intertime and the intervention time distribution.\n",
    "We start by define two utility functions to calculate this values, calculate_intertime and calculate_timediff, the firt one calculate the difference between the values of given column in two near rows of the sorted dataframe. The second one, instead, calculate the difference between two column in the same row."
   ]
  },
  {
   "cell_type": "code",
   "execution_count": 4,
   "metadata": {
    "collapsed": false,
    "deletable": true,
    "editable": true
   },
   "outputs": [],
   "source": [
    "def calculate_intertime(df, column):\n",
    "    sorted_df = df.sort_values(column)\n",
    "    delta = ((sorted_df[column]-sorted_df[column].shift()).fillna(0)).apply(lambda x: x.total_seconds()).astype('int64')\n",
    "    return delta\n",
    "\n",
    "def calculate_timediff(df, time_column1, time_column2):\n",
    "    delta = ((df[time_column2]-df[time_column1].shift()).fillna(0)).apply(lambda x: x.total_seconds()).astype('int64')\n",
    "    return delta"
   ]
  },
  {
   "cell_type": "markdown",
   "metadata": {
    "deletable": true,
    "editable": true
   },
   "source": [
    "### Fire Burst Intertime Distribution\n",
    "\n",
    "In the next cell we plot the fire burst intertimes and we show that they follow an exponential distribution. Using the maximum likelihood technique we have estimated the $\\lambda$ parameter of distribution obtaining:\n",
    "\n",
    "$$ \\hat{\\lambda} = \\frac{n}{\\sum_{i} x_i}  $$\n",
    "\n",
    "where $\\hat{\\lambda}$ is an unbiased estimator of $\\lambda$.\n",
    "\n",
    "In the obtained plot we indicate the calculate intertime in the blue histogram, the scypy exponential probability distribution function with the red line and, finally, our implementation of exponantial pdf with green points. "
   ]
  },
  {
   "cell_type": "code",
   "execution_count": 5,
   "metadata": {
    "collapsed": false,
    "deletable": true,
    "editable": true
   },
   "outputs": [
    {
     "data": {
      "text/plain": [
       "(0, 10000)"
      ]
     },
     "execution_count": 5,
     "metadata": {},
     "output_type": "execute_result"
    },
    {
     "data": {
      "image/png": "[encoded data removed]",
      "text/plain": [
       "<matplotlib.figure.Figure at 0x114241c88>"
      ]
     },
     "metadata": {},
     "output_type": "display_data"
    }
   ],
   "source": [
    "alarm_intertime = calculate_intertime(df, 'Alarm DtTm')\n",
    "\n",
    "exp_bins, exp_counts = Exponential(1/alarm_intertime.mean()).pdf(10000, 500)\n",
    "xs = np.linspace(0, 10000)\n",
    "rv = stats.expon(0,alarm_intertime.mean())\n",
    "\n",
    "f, ax = plt.subplots()\n",
    "ax.hist(alarm_intertime, bins=500, color=\"blue\", normed=True, lw=1, alpha=0.4)\n",
    "ax.plot(xs, rv.pdf(xs), color=\"red\", lw=2)\n",
    "ax.scatter(exp_bins, exp_counts, color=\"green\", lw=0.1, s=10)\n",
    "ax.set_xlim(0, 10000)"
   ]
  },
  {
   "cell_type": "code",
   "execution_count": 6,
   "metadata": {
    "collapsed": false,
    "deletable": true,
    "editable": true
   },
   "outputs": [
    {
     "data": {
      "text/plain": [
       "KstestResult(statistic=0.00049302338146502232, pvalue=0.80551550567804286)"
      ]
     },
     "execution_count": 6,
     "metadata": {},
     "output_type": "execute_result"
    }
   ],
   "source": [
    "kstest(alarm_intertime, 'expon', args=(0,1/alarm_intertime.mean()), alternative='greater')"
   ]
  },
  {
   "cell_type": "markdown",
   "metadata": {
    "deletable": true,
    "editable": true
   },
   "source": [
    "### Intervention Time Distribution\n",
    "\n",
    "In the next cell we plot the intervention times (Close DtTm - Arrival DtTm) and we compare them against lognormal distribution and gamma distribution. \n",
    "We first define two function to estimate the parameters, both function use the formulas obtained applying the maximum likelihood estimation."
   ]
  },
  {
   "cell_type": "code",
   "execution_count": 9,
   "metadata": {
    "collapsed": true,
    "deletable": true,
    "editable": true
   },
   "outputs": [],
   "source": [
    "def calculateGammaParams(data):\n",
    "    mean = np.mean(data)\n",
    "    s = np.log(mean) - np.mean(np.log(data))\n",
    "    shape = (3-s+np.sqrt(((s-3)**2)+24*s))/(12*s)\n",
    "    scale = mean/shape\n",
    "    return (shape, 0, scale)\n",
    "\n",
    "def calculateLognormalParams(data):\n",
    "    mean = np.mean(np.log(data))\n",
    "    scale = np.exp(mean)\n",
    "    shape = np.sqrt(np.mean((np.log(data)-mean)**2))\n",
    "    return (shape, 0, scale)"
   ]
  },
  {
   "cell_type": "markdown",
   "metadata": {
    "collapsed": false,
    "deletable": true,
    "editable": true
   },
   "source": [
    "We calculate and plot the intervention times (blue histogram) and we compare them graphically with the gamma distribution (red) and the lognormal distribution (green)."
   ]
  },
  {
   "cell_type": "code",
   "execution_count": 20,
   "metadata": {
    "collapsed": false,
    "deletable": true,
    "editable": true
   },
   "outputs": [
    {
     "data": {
      "image/png": "[encoded data removed]",
      "text/plain": [
       "<matplotlib.figure.Figure at 0x12dc1a550>"
      ]
     },
     "metadata": {},
     "output_type": "display_data"
    },
    {
     "data": {
      "text/plain": [
       "<matplotlib.figure.Figure at 0x114a5c908>"
      ]
     },
     "metadata": {},
     "output_type": "display_data"
    }
   ],
   "source": [
    "x_limit = 40000\n",
    "\n",
    "serving_times = calculate_timediff(df, 'Arrival DtTm', 'Close DtTm')\n",
    "serving_times = serving_times[(serving_times > 0) & (serving_times < x_limit)]\n",
    "xs = np.linspace(0, x_limit)\n",
    "gshape, gloc, gscale = calculateGammaParams(serving_times)\n",
    "lnshape, lnloc, lnscale = calculateLognormalParams(serving_times)\n",
    "\n",
    "mLogNormal_b, mLogNormal_c = Normal(mu=np.log(lnscale), variance=np.power(lnshape, 2), t=\"bm\", log=True).pdf(10000, 150)\n",
    "rv_gamma = stats.gamma.pdf(xs, gshape, gloc, gscale)\n",
    "rv_lognormal = stats.lognorm.pdf(xs, lnshape, lnloc, lnscale)\n",
    "plt.hist(serving_times, bins=150, color=\"blue\", normed=True, lw=1, alpha=0.4)\n",
    "plt.plot(xs, rv_gamma, color=\"red\", lw=2)\n",
    "plt.plot(xs, rv_lognormal, color=\"green\", lw=2)\n",
    "plt.scatter(mLogNormal_b, mLogNormal_c, color=\"green\", lw=0.1, s=10)\n",
    "plt.show()\n",
    "plt.clf()"
   ]
  },
  {
   "cell_type": "code",
   "execution_count": null,
   "metadata": {
    "collapsed": false,
    "deletable": true,
    "editable": true
   },
   "outputs": [],
   "source": [
    "kstest(serving_times, 'lognorm', args=(lnshape, lnloc, lnscale), alternative='greater')"
   ]
  },
  {
   "cell_type": "markdown",
   "metadata": {
    "deletable": true,
    "editable": true
   },
   "source": [
    "## Simulation"
   ]
  },
  {
   "cell_type": "code",
   "execution_count": null,
   "metadata": {
    "collapsed": false,
    "deletable": true,
    "editable": true
   },
   "outputs": [],
   "source": [
    "FireSimulation = SFFireSimulation(10, 5, df)\n",
    "result = FireSimulation.simulate()\n",
    "result"
   ]
  },
  {
   "cell_type": "code",
   "execution_count": null,
   "metadata": {
    "collapsed": false,
    "deletable": true,
    "editable": true
   },
   "outputs": [],
   "source": [
    "FireSimulation = SFFireSimulation(10, 1, df)\n",
    "result = FireSimulation.simulate_only_times()\n",
    "\n",
    "#ax = plt.subplot(111)\n",
    "#ax.plot(result['Longitude'], result['Latitude'],'o', markersize=5)\n",
    "#ax.set_xlim(-122.55, -122.3)\n",
    "#ax.set_ylim(37.675, 37.87)\n",
    "#plt.show()\n",
    "\n",
    "result"
   ]
  },
  {
   "cell_type": "code",
   "execution_count": null,
   "metadata": {
    "collapsed": false,
    "deletable": true,
    "editable": true
   },
   "outputs": [],
   "source": [
    "FireSimulation = SFFireSimulation(5, 1, df)\n",
    "X_mean = 0\n",
    "S_square = 0\n",
    "for j in range(1, 200):\n",
    "    result = FireSimulation.simulate_only_times()\n",
    "    mean = np.mean(result)\n",
    "    old_mean = X_mean\n",
    "    X_mean = X_mean + ((mean- X_mean))/j\n",
    "    if j == 1:\n",
    "        S_square = 0\n",
    "    else:\n",
    "        S_square = (1-(1/j))*S_square+(j+1)*(X_mean-old_mean)**2\n",
    "\n",
    "print(X_mean)\n",
    "print(np.sqrt(S_square))"
   ]
  },
  {
   "cell_type": "markdown",
   "metadata": {
    "deletable": true,
    "editable": true
   },
   "source": [
    "## Other stuff"
   ]
  },
  {
   "cell_type": "code",
   "execution_count": null,
   "metadata": {
    "collapsed": false,
    "deletable": true,
    "editable": true
   },
   "outputs": [],
   "source": [
    "box = df['Box']\n",
    "vc_box = box.value_counts(dropna=True)\n",
    "idx = vc_box.index\n",
    "x = range(len(idx))\n",
    "print(len(idx))\n",
    "plt.bar(x, vc_box)\n",
    "plt.xticks(x, idx, rotation=90)\n",
    "plt.show()"
   ]
  },
  {
   "cell_type": "code",
   "execution_count": 32,
   "metadata": {
    "collapsed": false,
    "deletable": true,
    "editable": true
   },
   "outputs": [
    {
     "data": {
      "image/png": "[encoded data removed]",
      "text/plain": [
       "<matplotlib.figure.Figure at 0x123453da0>"
      ]
     },
     "metadata": {},
     "output_type": "display_data"
    }
   ],
   "source": [
    "#### Normal/Lognormal implementation\n",
    "normal_bm  = Normal(mu=0.0, variance=0.25, t=\"bm\", log=True)\n",
    "pdf_bm_x, pdf_bm_y = normal_bm.pdf(30000, 300)\n",
    "\n",
    "normal_approx = Normal(t=\"approx\", log=False)\n",
    "pdf_approx_x, pdf_approx_y = normal_approx.pdf(30000, 150)\n",
    "\n",
    "plt.scatter(pdf_bm_x, pdf_bm_y, color=\"blue\", s=10)\n",
    "plt.scatter(pdf_approx_x, pdf_approx_y, color=\"green\", s=10)\n",
    "plt.show()"
   ]
  },
  {
   "cell_type": "code",
   "execution_count": null,
   "metadata": {
    "collapsed": false,
    "deletable": true,
    "editable": true
   },
   "outputs": [],
   "source": [
    "civilian_fatalities = df['Number of Sprinkler Heads Operating'].value_counts(normalize=True)\n",
    "print(civilian_fatalities[civilian_fatalities<300])\n",
    "plt.bar(civilian_fatalities[civilian_fatalities<300].index.astype('int32'), civilian_fatalities[civilian_fatalities<300], 0.35, color='r')"
   ]
  },
  {
   "cell_type": "code",
   "execution_count": null,
   "metadata": {
    "collapsed": false,
    "deletable": true,
    "editable": true
   },
   "outputs": [],
   "source": [
    "x = df['Action Taken Secondary'].value_counts(normalize=True)\n",
    "#np.random.choice(x.index, 1, p=x)\n",
    "x"
   ]
  },
  {
   "cell_type": "code",
   "execution_count": null,
   "metadata": {
    "collapsed": false,
    "deletable": true,
    "editable": true
   },
   "outputs": [],
   "source": [
    "prop_loss = (df['Estimated Contents Loss'].dropna().astype('float'))\n",
    "print(max(prop_loss))\n",
    "print(min(prop_loss))\n",
    "\n",
    "xs = np.linspace(0, 4000)\n",
    "rv = stats.expon(0,prop_loss.mean())\n",
    "print(prop_loss.mean())\n",
    "\n",
    "ax = plt.subplot(111)\n",
    "ax.hist(prop_loss, bins=150)\n",
    "ax.plot(xs, rv.pdf(xs), color=\"red\", lw=2)\n",
    "\n",
    "ax.set_ylim([0, 100])\n",
    "\n",
    "plt.show()"
   ]
  },
  {
   "cell_type": "code",
   "execution_count": null,
   "metadata": {
    "collapsed": false,
    "deletable": true,
    "editable": true
   },
   "outputs": [],
   "source": [
    "sprinkler = df['Number of Sprinkler Heads Operating'].dropna().astype('int64').value_counts(normalize=True)\n",
    "print(sprinkler)\n",
    "print(np.mean(sprinkler.index))\n",
    "geom_values = pd.Series(np.random.geometric(p=(1/np.mean(sprinkler.index)), size=1000))\n",
    "x = geom_values.value_counts(normalize=True)\n",
    "plt.plot(sprinkler.index, sprinkler)\n",
    "plt.plot(x.index, x)"
   ]
  }
 ],
 "metadata": {
  "kernelspec": {
   "display_name": "Python 3",
   "language": "python",
   "name": "python3"
  },
  "language_info": {
   "codemirror_mode": {
    "name": "ipython",
    "version": 3
   },
   "file_extension": ".py",
   "mimetype": "text/x-python",
   "name": "python",
   "nbconvert_exporter": "python",
   "pygments_lexer": "ipython3",
   "version": "3.5.0"
  }
 },
 "nbformat": 4,
 "nbformat_minor": 2
}
